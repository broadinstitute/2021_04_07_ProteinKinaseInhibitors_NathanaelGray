{
 "cells": [
  {
   "cell_type": "code",
   "execution_count": null,
   "metadata": {},
   "outputs": [],
   "source": [
    "import os\n",
    "import pandas as pd\n",
    "import numpy as np\n",
    "from pathlib import Path\n",
    "import plotnine as gg\n",
    "import umap\n",
    "from sklearn.preprocessing import StandardScaler\n",
    "from kneed import KneeLocator\n",
    "from sklearn.datasets import make_blobs\n",
    "from sklearn.cluster import KMeans\n",
    "from sklearn.metrics import silhouette_score\n",
    "import matplotlib.pyplot as plt"
   ]
  },
  {
   "cell_type": "markdown",
   "metadata": {},
   "source": [
    "## Paths & reading features list"
   ]
  },
  {
   "cell_type": "markdown",
   "metadata": {},
   "source": [
    "### Reading Single cell data"
   ]
  },
  {
   "cell_type": "code",
   "execution_count": null,
   "metadata": {},
   "outputs": [],
   "source": [
    "foldername = \"BR00100032\"\n",
    "\n",
    "csvlist = [os.path.join(Path(\"../\" + foldername, i)) for i in os.listdir(Path(\"../\" + foldername)) if \"DMSO_FAK.csv\" in i]\n",
    "\n",
    "df = pd.read_csv(csvlist[0])\n",
    "\n",
    "    \n",
    "data = (df\n",
    "        .drop(columns=['Unnamed: 0'])\n",
    "       )\n",
    "\n",
    "\n",
    "featlist = (np.loadtxt(Path(\"../\" + 'metadata' + \"/\" + 'featureslist.txt'), \n",
    "                      dtype=str)\n",
    "                    .tolist()\n",
    "           )\n",
    "\n",
    "metadata_file= foldername + \"_Metadata.csv\"\n",
    "\n",
    "\n",
    "meta = pd.read_csv(Path(\"../\" + foldername + \"/\" + metadata_file))\n"
   ]
  },
  {
   "cell_type": "markdown",
   "metadata": {},
   "source": [
    "## Data_Preprocessing"
   ]
  },
  {
   "cell_type": "code",
   "execution_count": null,
   "metadata": {},
   "outputs": [],
   "source": [
    "\n",
    "plotting_features = [\"Metadata_Plate\", \"Metadata_Well\",\"Nuclei_Location_Center_X\", \"Nuclei_Location_Center_Y\",\n",
    " \"PathName_OrigDNA\", \"Metadata_Well\", \"Metadata_Site\",\"FileName_OrigDNA\", \n",
    " \"PathName_NucleiOutlines\", \"FileName_OrigRNA\",\"FileName_OrigMito\",\n",
    " \"FileName_OrigER\", \"FileName_OrigAGP\",\"FileName_NucleiOutlines\", \n",
    " \"Cells_Location_Center_X\",\"Cells_Location_Center_Y\", \n",
    " \"Cells_AreaShape_MajorAxisLength\", \"Cells_AreaShape_MinorAxisLength\"]\n",
    "\n",
    "\n",
    "\n",
    "newftlist = featlist + plotting_features\n",
    "\n",
    "\n",
    "df_sel = data[data.columns[data.columns.isin(newftlist)]]\n",
    "\n",
    "\n",
    "\n",
    "\n",
    "selected_wells = (data.Metadata_Well.unique()\n",
    "                  .tolist()\n",
    "                 )\n",
    "\n",
    "selected_wells.remove('I04')\n",
    "\n",
    "\n",
    "meta_modf = meta.query(\"Metadata_Well in @ selected_wells\")\n",
    "\n",
    "\n",
    "prf = pd.merge(meta_modf, df_sel, on=[\"Metadata_Well\", \"Metadata_Plate\"], how=\"left\")\n",
    "\n",
    "prf.loc[prf['Metadata_compound_name'] == 'DMSO', \"Metadata_Target\"] = 'DMSO'\n",
    "\n",
    "prf['Metadata_Target'].replace('CDK14 / pan-TAIRE', 'CDK14_pan-TAIRE', inplace=True)\n",
    "prf['Metadata_Annotation'].replace('active ', 'active', inplace=True)\n",
    "\n",
    "\n",
    "\n",
    "def z_normalization(data, selected_features):\n",
    "    \n",
    "    '''data    dataframe\n",
    "    \n",
    "       selected_features list of selected features'''\n",
    "    \n",
    "    meta = data[data.columns[~data.columns.isin(selected_features)]]\n",
    "    \n",
    "    dmso = data.query(\"Metadata_compound_name == 'DMSO'\")\n",
    "    \n",
    "    scale = StandardScaler().fit(dmso[selected_features].values)\n",
    "    \n",
    "    scaled_data = scale.transform(data[selected_features].values)\n",
    "    \n",
    "    data_scaled = pd.merge(meta, pd.DataFrame(scaled_data, columns=selected_features), right_index=True, left_index=True, how=\"left\")\n",
    "    \n",
    "    return data_scaled\n",
    "\n",
    "\n",
    "\n",
    "data_scaled = z_normalization(prf, featlist)\n",
    "\n",
    "data_scaled.head()\n"
   ]
  },
  {
   "cell_type": "code",
   "execution_count": null,
   "metadata": {},
   "outputs": [],
   "source": [
    "target = ['DMSO', 'SECRET']\n",
    "\n",
    "pf = data_scaled.query(\"Metadata_Target in @ target\")\n",
    "\n",
    "pf_variables = pf[featlist]\n",
    "pf_meta = pf[pf.columns[~pf.columns.isin(featlist)]]"
   ]
  },
  {
   "cell_type": "code",
   "execution_count": null,
   "metadata": {},
   "outputs": [],
   "source": [
    "data[featlist]"
   ]
  },
  {
   "cell_type": "code",
   "execution_count": 103,
   "metadata": {},
   "outputs": [],
   "source": [
    "\n",
    "kmeans = KMeans(n_clusters=25, random_state=0).fit(data[featlist].values)\n",
    "distances=kmeans.fit_transform(data[featlist].values)\n",
    "data['labels'] = kmeans.labels_\n",
    "data['dist2Mean'] = np.min(distances,1)\n",
    "\n"
   ]
  },
  {
   "cell_type": "code",
   "execution_count": 136,
   "metadata": {},
   "outputs": [
    {
     "data": {
      "text/plain": [
       "array(['F05', 'F09', 'F18', 'F22', 'K03', 'K07', 'K16', 'K20'],\n",
       "      dtype=object)"
      ]
     },
     "execution_count": 136,
     "metadata": {},
     "output_type": "execute_result"
    }
   ],
   "source": [
    "data.query(\"Metadata_Target == 'FAK'\")['Metadata_Well'].unique()\n"
   ]
  },
  {
   "cell_type": "code",
   "execution_count": 126,
   "metadata": {},
   "outputs": [],
   "source": [
    "data.to_csv('DMSO_FAK_kmean.csv')"
   ]
  },
  {
   "cell_type": "code",
   "execution_count": 142,
   "metadata": {},
   "outputs": [
    {
     "data": {
      "text/plain": [
       "83466"
      ]
     },
     "execution_count": 142,
     "metadata": {},
     "output_type": "execute_result"
    }
   ],
   "source": [
    "total_count = data.shape[0]\n",
    "total_count"
   ]
  },
  {
   "cell_type": "code",
   "execution_count": 141,
   "metadata": {},
   "outputs": [
    {
     "data": {
      "image/png": "[encoded data removed]",
      "text/plain": [
       "<Figure size 1400x1000 with 1 Axes>"
      ]
     },
     "metadata": {
      "needs_background": "light"
     },
     "output_type": "display_data"
    }
   ],
   "source": [
    "pff = pd.DataFrame()\n",
    "for i in sorted(data.labels.unique()):\n",
    "    tmp = data[data['labels']==i].groupby('Metadata_compound_name').count().reset_index()[['Metadata_compound_name', 'labels']]\n",
    "    tmp[str(i)] = tmp['labels']/total_count\n",
    "    \n",
    "    pff = pd.concat([pff, tmp],axis=1)\n",
    "    \n",
    "pff = pff.loc[:,~pff.columns.duplicated()].T.reset_index()\n",
    "pff.columns= pff.iloc[0]\n",
    "pff.drop(pff.index[0:2], inplace=True)\n",
    "pff = pff.assign(diff = lambda x: x['PND-1186'] - x['DMSO'])\n",
    "pff = pff.sort_values(by=['PND-1186'], ascending=False)\n",
    "\n",
    "\n",
    "\n",
    "width = 7\n",
    "height = 5\n",
    "dpi_inch = 200\n",
    "\n",
    "plt.figure(\n",
    "    figsize=(width, height),\n",
    "    dpi=dpi_inch)\n",
    "\n",
    "\n",
    "dmso = pff['DMSO'].tolist()\n",
    "compd = pff['PND-1186'].tolist()\n",
    "x = pff.Metadata_compound_name.tolist()\n",
    "plt.bar(x, dmso, color='#636363')\n",
    "plt.bar(x, compd, bottom=dmso, color='#a1d99b')\n",
    "plt.xlabel('Clusters')\n",
    "plt.ylabel('Normalized Cell counts')\n",
    "plt.title('Frequency distribution of Cells in k cluster')\n",
    "plt.tight_layout()\n",
    "\n",
    "outpath = Path(os.path.join('../', 'Figures', 'kmeans', 'BR00100032'))\n",
    "plt.savefig(str(outpath) + '/' + 'DMSO_FAK_kclusters_sorted_normalized.png')\n",
    "plt.show()"
   ]
  },
  {
   "cell_type": "code",
   "execution_count": 117,
   "metadata": {},
   "outputs": [
    {
     "data": {
      "text/plain": [
       "PosixPath('../Figures/kmeans/BR00100032')"
      ]
     },
     "execution_count": 117,
     "metadata": {},
     "output_type": "execute_result"
    }
   ],
   "source": [
    "\n",
    "outpath"
   ]
  },
  {
   "cell_type": "code",
   "execution_count": null,
   "metadata": {},
   "outputs": [],
   "source": [
    "kmeans = KMeans(n_clusters=nClus, random_state=0).fit(data4DM.values)\n",
    "    clusterLabels=kmeans.labels_\n",
    "    distances=kmeans.fit_transform(data4DM.values)\n",
    "    data4DM_BP['clusterLabels']=clusterLabels;\n",
    "    data4DM_BP['dist2Mean']=np.min(distances,1);"
   ]
  },
  {
   "cell_type": "code",
   "execution_count": null,
   "metadata": {},
   "outputs": [],
   "source": [
    "clusters = range(0, 26)\n",
    "\n",
    "inertia = []\n",
    "\n",
    "for c in clusters:\n",
    "    kmeans = KMeans(n_clusters=c, random_state=2)\n",
    "    kmeans =kmeans.fit(pf_variables.values)\n",
    "    inter = kmeans.inertia_\n",
    "    inertia.append(inter)\n",
    "    \n",
    "    print(\"The intertia is for :\", str(c), \"Clusters is:\", inter)"
   ]
  },
  {
   "cell_type": "code",
   "execution_count": null,
   "metadata": {},
   "outputs": [],
   "source": [
    "#plt.style.use(\"fivethirtyeight\")\n",
    "plt.plot(range(2, 26), inertia)\n",
    "plt.xticks(range(2, 26))\n",
    "plt.xlabel(\"Number of Clusters\")\n",
    "plt.ylabel(\"SSE\")\n",
    "plt.show()"
   ]
  },
  {
   "cell_type": "code",
   "execution_count": null,
   "metadata": {},
   "outputs": [],
   "source": [
    "kl = KneeLocator(range(2, 26), inertia, curve=\"concave\", direction=\"decreasing\")\n",
    "\n",
    "kl.elbow\n"
   ]
  },
  {
   "cell_type": "code",
   "execution_count": null,
   "metadata": {},
   "outputs": [],
   "source": [
    "# kmeans_kwargs = {\n",
    "#     \"init\": \"random\",\n",
    "#     \"n_init\": 10,\n",
    "#     \"max_iter\": 300,\n",
    "#     \"random_state\": 42}\n",
    "\n",
    "\n",
    "\n",
    "\n",
    "silhouette_coefficients = []\n",
    "for k in range(2, 26):\n",
    "    kmeans = KMeans(n_clusters=k, random_state=2)\n",
    "    kmeans.fit(pf_variables.values)\n",
    "    score = silhouette_score(pf_variables.values, kmeans.labels_)\n",
    "    silhouette_coefficients.append(score)"
   ]
  },
  {
   "cell_type": "code",
   "execution_count": null,
   "metadata": {},
   "outputs": [],
   "source": [
    "plt.plot(range(2, 26), silhouette_coefficients)\n",
    "plt.xticks(range(2, 26), size=8)\n",
    "plt.xlabel(\"Number of Clusters\")\n",
    "plt.ylabel(\"silhouette_coefficients\")\n",
    "plt.show()"
   ]
  },
  {
   "cell_type": "code",
   "execution_count": null,
   "metadata": {},
   "outputs": [],
   "source": []
  }
 ],
 "metadata": {
  "kernelspec": {
   "display_name": "Python 3",
   "language": "python",
   "name": "python3"
  },
  "language_info": {
   "codemirror_mode": {
    "name": "ipython",
    "version": 3
   },
   "file_extension": ".py",
   "mimetype": "text/x-python",
   "name": "python",
   "nbconvert_exporter": "python",
   "pygments_lexer": "ipython3",
   "version": "3.7.6"
  }
 },
 "nbformat": 4,
 "nbformat_minor": 2
}
