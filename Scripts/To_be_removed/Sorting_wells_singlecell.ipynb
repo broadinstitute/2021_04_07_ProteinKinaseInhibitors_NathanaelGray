{
 "cells": [
  {
   "cell_type": "code",
   "execution_count": 2,
   "metadata": {},
   "outputs": [],
   "source": [
    "import os\n",
    "import pandas as pd\n",
    "import numpy as np\n",
    "from pathlib import Path\n",
    "\n"
   ]
  },
  {
   "cell_type": "code",
   "execution_count": 5,
   "metadata": {},
   "outputs": [],
   "source": [
    "path = Path(\"../BR00100032/BR00100032_Metadata.csv\")\n",
    "df = pd.read_csv(path)\n",
    "\n",
    "\n",
    "\n",
    "df['Metadata_Target'].replace(np.nan, 'NA', inplace=True)\n",
    "df['Metadata_Annotation'].replace('active ', 'active', inplace=True)\n",
    "\n",
    "dm = ['NA']\n",
    "\n",
    "dmso_wells = (df.query(\"Metadata_Target in @ dm\")['Metadata_Well']\n",
    ".sample(n=16, random_state=1)\n",
    "              .tolist()\n",
    "            \n",
    "             )\n",
    "sec = ['SECRET']\n",
    "\n",
    "secret = (df.query(\"Metadata_Target in @ sec\")['Metadata_Well']\n",
    "              .tolist()\n",
    "         )\n",
    "secret\n",
    "\n",
    "selected_wells = dmso_wells+secret\n"
   ]
  },
  {
   "cell_type": "code",
   "execution_count": 9,
   "metadata": {},
   "outputs": [
    {
     "data": {
      "text/plain": [
       "['F05', 'F09', 'F18', 'F22', 'K03', 'K07', 'K16', 'K20']"
      ]
     },
     "execution_count": 9,
     "metadata": {},
     "output_type": "execute_result"
    }
   ],
   "source": [
    "df.Metadata_Target.unique()\n",
    "\n",
    "fak_wells = (df.query(\"Metadata_Target == 'FAK'\")['Metadata_Well']\n",
    "             .tolist()\n",
    "            )\n",
    "\n",
    "fak_wells"
   ]
  },
  {
   "cell_type": "code",
   "execution_count": 25,
   "metadata": {},
   "outputs": [
    {
     "data": {
      "text/plain": [
       "['H05',\n",
       " 'H09',\n",
       " 'I03',\n",
       " 'I16',\n",
       " 'H18',\n",
       " 'I20',\n",
       " 'H22',\n",
       " 'I07',\n",
       " 'G22',\n",
       " 'G09',\n",
       " 'J03',\n",
       " 'J07',\n",
       " 'G18',\n",
       " 'J16',\n",
       " 'G05',\n",
       " 'J20']"
      ]
     },
     "execution_count": 25,
     "metadata": {},
     "output_type": "execute_result"
    }
   ],
   "source": [
    "path = Path(\"../BR00100037/BR00100037_Metadata.csv\")\n",
    "prf = pd.read_csv(fpath)\n",
    "\n",
    "prf['Metadata_Target'].replace(np.nan, 'NA', inplace=True)\n",
    "prf['Metadata_Annotation'].replace('active ', 'active', inplace=True)\n",
    "\n",
    "moa = ['NA']\n",
    "\n",
    "dmso_wells = (prf.query(\"Metadata_Target in @ moa\")['Metadata_Well']\n",
    ".sample(n=16, random_state=1)\n",
    "              .tolist()\n",
    "             )\n",
    "moa= ['SECRET']\n",
    "\n",
    "secret = (df.query(\"Metadata_Target in @ moa\")['Metadata_Well']\n",
    "              .tolist()\n",
    "         )\n",
    "secret"
   ]
  },
  {
   "cell_type": "code",
   "execution_count": null,
   "metadata": {},
   "outputs": [],
   "source": []
  }
 ],
 "metadata": {
  "kernelspec": {
   "display_name": "Python 3",
   "language": "python",
   "name": "python3"
  },
  "language_info": {
   "codemirror_mode": {
    "name": "ipython",
    "version": 3
   },
   "file_extension": ".py",
   "mimetype": "text/x-python",
   "name": "python",
   "nbconvert_exporter": "python",
   "pygments_lexer": "ipython3",
   "version": "3.7.6"
  }
 },
 "nbformat": 4,
 "nbformat_minor": 2
}
