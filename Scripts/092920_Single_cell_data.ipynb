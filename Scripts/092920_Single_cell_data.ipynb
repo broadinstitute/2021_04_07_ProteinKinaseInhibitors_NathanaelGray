{
 "cells": [
  {
   "cell_type": "code",
   "execution_count": 28,
   "metadata": {},
   "outputs": [],
   "source": [
    "import os\n",
    "import pandas as pd\n",
    "import numpy as np\n",
    "from pathlib import Path\n",
    "import plotnine as gg\n",
    "import umap\n",
    "from sklearn.preprocessing import StandardScaler\n"
   ]
  },
  {
   "cell_type": "markdown",
   "metadata": {},
   "source": [
    "## Selecting variables from the collapsed data"
   ]
  },
  {
   "cell_type": "code",
   "execution_count": 29,
   "metadata": {},
   "outputs": [],
   "source": [
    "# tmp = pd.read_csv(Path(\"../collated/C-7210-01-CMP-008-gray_collapsed_sampled.csv\"))\n",
    "\n",
    "# ## e\n",
    "# exclude_var = ['Cells_Correlation_Costes_DNA_Mito',\n",
    "#  'Cytoplasm_Correlation_Costes_DNA_Mito',\n",
    "#  'Cytoplasm_Correlation_Costes_DNA_RNA']\n",
    "\n",
    "# var_list = [col for col in tmp.columns if not \"Metadata\" in col]\n",
    "# featlist = [e for e in var_list if e not in exclude_var]\n",
    "\n",
    "\n",
    "# f = open(\"featureslist.txt\", \"w\")\n",
    "\n",
    "# f.writelines(v + '\\v' for v in featlist)\n",
    "\n",
    "\n"
   ]
  },
  {
   "cell_type": "markdown",
   "metadata": {},
   "source": [
    "## Paths & reading features list"
   ]
  },
  {
   "cell_type": "markdown",
   "metadata": {},
   "source": [
    "### Reading Single cell data"
   ]
  },
  {
   "cell_type": "code",
   "execution_count": 30,
   "metadata": {},
   "outputs": [],
   "source": [
    "foldername = \"BR00100037\"\n",
    "\n",
    "csvlist = [os.path.join(Path(\"../\" + foldername, i)) for i in os.listdir(Path(\"../\" + foldername)) if \"singlecell\" in i]\n",
    "\n",
    "\n",
    "data = []\n",
    "for csv in csvlist:\n",
    "    df = pd.read_csv(csv)\n",
    "    data.append(df)\n",
    "    \n",
    "data = (pd.concat(data)\n",
    "        .drop(columns=['Unnamed: 0'])\n",
    "       )\n",
    "        \n",
    " \n"
   ]
  },
  {
   "cell_type": "code",
   "execution_count": 31,
   "metadata": {},
   "outputs": [
    {
     "data": {
      "text/plain": [
       "array(['A12', 'A13', 'A19', 'B04', 'C11', 'C15', 'D14', 'D19', 'G05',\n",
       "       'G09', 'G18', 'G22', 'H05', 'H09', 'H18', 'H22', 'I03', 'I04',\n",
       "       'I07', 'I16', 'I20', 'J03', 'J07', 'J16', 'J20', 'K14', 'L12',\n",
       "       'M07', 'O06', 'O07', 'P01', 'P24', 'F05', 'F09', 'F18', 'F22',\n",
       "       'K03', 'K07', 'K16', 'K20', 'F04', 'F08', 'F17', 'F21', 'G03',\n",
       "       'G04', 'G07', 'G08', 'G16', 'G17', 'G20', 'G21', 'H03', 'H04',\n",
       "       'H07', 'H08', 'H16', 'H17', 'H20', 'H21', 'I05', 'I06', 'I08',\n",
       "       'I09', 'I18', 'I19', 'I21', 'I22', 'J05', 'J06', 'J08', 'J09',\n",
       "       'J18', 'J19', 'J21', 'J22', 'K06', 'K09', 'K19', 'K22'],\n",
       "      dtype=object)"
      ]
     },
     "execution_count": 31,
     "metadata": {},
     "output_type": "execute_result"
    }
   ],
   "source": [
    "data.Metadata_Well.unique()"
   ]
  },
  {
   "cell_type": "markdown",
   "metadata": {},
   "source": [
    "## Data_Preprocessing"
   ]
  },
  {
   "cell_type": "code",
   "execution_count": 32,
   "metadata": {},
   "outputs": [],
   "source": [
    "\n",
    "data_meta = [col for col in data.columns if \"Metadata\" in col]\n",
    "\n",
    "featlist = (np.loadtxt(Path(\"../\" + 'metadata' + \"/\" + 'featureslist.txt'), \n",
    "                      dtype=str)\n",
    "                    .tolist()\n",
    "           )\n",
    "\n",
    "plotting_features = [\"Nuclei_Location_Center_X\", \"Nuclei_Location_Center_Y\",\n",
    " \"PathName_OrigDNA\", \"Metadata_Well\", \"Metadata_Site\",\"FileName_OrigDNA\", \n",
    " \"PathName_NucleiOutlines\", \"FileName_OrigRNA\",\"FileName_OrigMito\",\n",
    " \"FileName_OrigER\", \"FileName_OrigAGP\",\"FileName_NucleiOutlines\", \n",
    " \"Cells_Location_Center_X\",\"Cells_Location_Center_Y\", \n",
    " \"Cells_AreaShape_MajorAxisLength\", \"Cells_AreaShape_MinorAxisLength\"]\n",
    "\n",
    "\n",
    "\n",
    "newftlist = data_meta + featlist + plotting_features\n",
    "\n",
    "\n",
    "df_sel = data[data.columns[data.columns.isin(newftlist)]]\n",
    "\n",
    "\n",
    "metadata_file= foldername + \"_Metadata.csv\"\n",
    "\n",
    "\n",
    "meta = pd.read_csv(Path(\"../\" + foldername + \"/\" + metadata_file))\n",
    "\n",
    "selected_wells = (data.Metadata_Well.unique()\n",
    "                  .tolist()\n",
    "                 )\n",
    "\n",
    "selected_wells.remove('I04')\n",
    "\n",
    "\n",
    "meta_modf = meta.query(\"Metadata_Well in @ selected_wells\")\n",
    "\n",
    "\n",
    "prf = pd.merge(meta_modf, df_sel, on=[\"Metadata_Well\", \"Metadata_Plate\"], how=\"left\")\n",
    "\n",
    "prf['Metadata_Target'].replace([np.nan, 'CDK14 / pan-TAIRE'], ['DMSO', 'CDK14_pan-TAIRE'], inplace=True)\n",
    "prf['Metadata_Annotation'].replace('active ', 'active', inplace=True)\n",
    "\n",
    "\n",
    "\n",
    "\n"
   ]
  },
  {
   "cell_type": "markdown",
   "metadata": {},
   "source": [
    "## data normalization & creating UMAP"
   ]
  },
  {
   "cell_type": "code",
   "execution_count": 38,
   "metadata": {
    "scrolled": true
   },
   "outputs": [],
   "source": [
    "def creating_umap_data(prf):\n",
    "    \n",
    "    # from sklearn.preprocessing import StandardScaler\n",
    "    \n",
    "    \n",
    "    dmso = prf.query(\"Metadata_compound_name == 'DMSO'\")\n",
    "    \n",
    "    dmso_var = dmso[dmso.columns[dmso.columns.isin(featlist)]]\n",
    "    \n",
    "    scale = StandardScaler().fit(dmso_var.values)\n",
    "    \n",
    "    \n",
    "    umap_df = []\n",
    "\n",
    "    for cpd in prf.Metadata_compound_name.unique():\n",
    "        \n",
    "        \n",
    "    \n",
    "        pf = prf.query(\"Metadata_compound_name in @cpd\")\n",
    "    \n",
    "        pf_var = pf[pf.columns[pf.columns.isin(featlist)]]\n",
    "        \n",
    "        pf_meta = pf[pf.columns[~pf.columns.isin(featlist)]]\n",
    "        \n",
    "        \n",
    "        ''' Note that rows with NA values are dropped, \n",
    "        I opted to exclude rows from metadata to make both \n",
    "        metadata and variable dataframe equal'''\n",
    "        \n",
    "        \n",
    "        \n",
    "        pf_var.dropna(how='any', inplace=True)\n",
    "\n",
    "        idx = pf_meta.index.difference(pf_var.index).tolist()\n",
    "\n",
    "        pf_meta.drop(idx, inplace=True)\n",
    "\n",
    "        pf_meta.reset_index(inplace=True)\n",
    "        \n",
    "        pf_meta.drop(columns = ['index'], axis=1, inplace=True)\n",
    "    \n",
    "        scaled_data = scale.transform(pf_var.values)\n",
    "    \n",
    "        ''' UMAP fitting'''\n",
    "\n",
    "        reducer = umap.UMAP(random_state=42)\n",
    "        \n",
    "        embedding = reducer.fit_transform(scaled_data)\n",
    "        \n",
    "        test = pd.DataFrame(embedding, columns= ['UMAP-1', 'UMAP-2'])\n",
    "\n",
    "        dm = pf_meta.merge(test, left_index=True, right_index=True, how=\"left\")\n",
    "        \n",
    "        umap_df.append(dm)\n",
    "        \n",
    "    return pd.concat(umap_df)\n",
    "\n",
    "\n",
    "umap_df = creating_umap_data(prf)\n",
    "    \n",
    "    \n",
    "\n",
    "umap_df.to_csv(Path(\"../\" + foldername + \"/\" + foldername + \"_umap_final.csv\"))\n",
    "    \n",
    "\n",
    "    \n",
    "    \n"
   ]
  },
  {
   "cell_type": "code",
   "execution_count": 39,
   "metadata": {},
   "outputs": [],
   "source": [
    "#umap_df = pd.read_csv('/Users/habbasi/Documents/Github/broadinstitute/ProteinKinase_NathianelGray/BR00100037/BR00100037_umap_all.csv')\n",
    "\n"
   ]
  },
  {
   "cell_type": "markdown",
   "metadata": {},
   "source": [
    "\n",
    "### Plotting Firgures"
   ]
  },
  {
   "cell_type": "code",
   "execution_count": 37,
   "metadata": {},
   "outputs": [
    {
     "name": "stderr",
     "output_type": "stream",
     "text": [
      "/Users/habbasi/plotnine/plotnine/ggplot.py:729: PlotnineWarning: Saving 6.4 x 4.8 in image.\n",
      "/Users/habbasi/plotnine/plotnine/ggplot.py:730: PlotnineWarning: Filename: ../Figures/UMAP/single_celldata/BR00100037/ERK5_scdata.png\n",
      "/Users/habbasi/plotnine/plotnine/layer.py:467: PlotnineWarning: geom_point : Removed 129 rows containing missing values.\n",
      "/Users/habbasi/plotnine/plotnine/ggplot.py:729: PlotnineWarning: Saving 6.4 x 4.8 in image.\n",
      "/Users/habbasi/plotnine/plotnine/ggplot.py:730: PlotnineWarning: Filename: ../Figures/UMAP/single_celldata/BR00100037/CDK14_pan-TAIRE_scdata.png\n",
      "/Users/habbasi/plotnine/plotnine/ggplot.py:729: PlotnineWarning: Saving 6.4 x 4.8 in image.\n",
      "/Users/habbasi/plotnine/plotnine/ggplot.py:730: PlotnineWarning: Filename: ../Figures/UMAP/single_celldata/BR00100037/FAK_scdata.png\n",
      "/Users/habbasi/plotnine/plotnine/ggplot.py:729: PlotnineWarning: Saving 6.4 x 4.8 in image.\n",
      "/Users/habbasi/plotnine/plotnine/ggplot.py:730: PlotnineWarning: Filename: ../Figures/UMAP/single_celldata/BR00100037/SECRET_scdata.png\n",
      "/Users/habbasi/plotnine/plotnine/ggplot.py:729: PlotnineWarning: Saving 6.4 x 4.8 in image.\n",
      "/Users/habbasi/plotnine/plotnine/ggplot.py:730: PlotnineWarning: Filename: ../Figures/UMAP/single_celldata/BR00100037/DMSO_scdata.png\n"
     ]
    },
    {
     "data": {
      "image/png": "[encoded data removed]",
      "text/plain": [
       "<Figure size 640x480 with 1 Axes>"
      ]
     },
     "metadata": {},
     "output_type": "display_data"
    },
    {
     "data": {
      "text/plain": [
       "<ggplot: (7027127205)>"
      ]
     },
     "execution_count": 37,
     "metadata": {},
     "output_type": "execute_result"
    }
   ],
   "source": [
    "\n",
    "def plotting_figures(data, foldername, outpath):\n",
    "    cell = data.Metadata_cell_line.unique()[0]\n",
    "\n",
    "    targetlist = data.Metadata_Target.unique().tolist()\n",
    "\n",
    "\n",
    "    color_values = {'JWG-071': '#b35806',\n",
    "                    'JWG-119': '#e08214',\n",
    "                    'FMF-05-176-1': '#fdb863',\n",
    "                    'BSJ-03-136':\"#b2182b\",\n",
    "                    'BSJ-04-030':'#f4a582',\n",
    "                    'FMF-04-159-2':'#542788',\n",
    "                    'AX15836':'#8073ac',\n",
    "                    'DMSO':'#bababa',\n",
    "                    'PND-1186':'#238443'\n",
    "                   }\n",
    "\n",
    "\n",
    "    for i, cpd in enumerate(targetlist):\n",
    "    \n",
    "        tmp = data.loc[(data['Metadata_Target'] == cpd)]\n",
    "        tmp1 = data.loc[(data['Metadata_Target'] == 'DMSO')]\n",
    "    \n",
    "        tmp2 = tmp.append(tmp1)\n",
    "    \n",
    "    \n",
    "    \n",
    "        g = gg.ggplot(tmp2, gg.aes(x='UMAP-1', y='UMAP-2', color=\"Metadata_compound_name\")) + \\\n",
    "        gg.geom_point(size = 0.01) + \\\n",
    "        gg.theme_classic() + \\\n",
    "        gg.xlab(\"UMAP-1\") + \\\n",
    "        gg.xlim(-5, 20) + \\\n",
    "        gg.ylim(-6, 10) + \\\n",
    "        gg.scale_colour_manual(name= 'Compound_name', values= color_values) + \\\n",
    "        gg.ylab(\"UMAP-2\") + \\\n",
    "        gg.labs(title=str(cpd) + \"_\" + str(cell))\n",
    "\n",
    "\n",
    "        gg.ggsave(filename=str(cpd)+'_scdata.png' , plot = g, path = outpath)\n",
    "    \n",
    "    \n",
    "    return g\n",
    "\n",
    "\n",
    "foldername='BR00100037'\n",
    "\n",
    "outpath = Path(\"../\" + \"Figures/UMAP/single_celldata/\" + foldername)\n",
    "\n",
    "plotting_figures(umap_df, foldername, outpath)\n",
    "    \n",
    "    \n",
    "\n",
    "\n",
    "\n",
    "\n",
    "    \n",
    "    \n",
    "    \n"
   ]
  },
  {
   "cell_type": "code",
   "execution_count": null,
   "metadata": {},
   "outputs": [],
   "source": []
  }
 ],
 "metadata": {
  "kernelspec": {
   "display_name": "Python 3",
   "language": "python",
   "name": "python3"
  },
  "language_info": {
   "codemirror_mode": {
    "name": "ipython",
    "version": 3
   },
   "file_extension": ".py",
   "mimetype": "text/x-python",
   "name": "python",
   "nbconvert_exporter": "python",
   "pygments_lexer": "ipython3",
   "version": "3.7.6"
  }
 },
 "nbformat": 4,
 "nbformat_minor": 2
}
