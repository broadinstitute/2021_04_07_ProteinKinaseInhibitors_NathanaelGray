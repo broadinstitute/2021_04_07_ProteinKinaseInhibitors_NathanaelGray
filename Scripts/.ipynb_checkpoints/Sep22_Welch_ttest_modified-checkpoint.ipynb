{
 "cells": [
  {
   "cell_type": "code",
   "execution_count": 1,
   "metadata": {},
   "outputs": [],
   "source": [
    "import os\n",
    "import pandas as pd\n",
    "import numpy as np\n",
    "import matplotlib.pyplot as plt\n",
    "from sklearn import datasets\n",
    "from sklearn.decomposition import PCA\n",
    "from sklearn.discriminant_analysis import LinearDiscriminantAnalysis\n",
    "import seaborn as sns\n",
    "import plotnine as gg\n",
    "from mpl_toolkits.mplot3d import Axes3D\n",
    "from pylab import *\n",
    "from sklearn.manifold import TSNE\n",
    "from palettable.colorbrewer.sequential import *\n",
    "from pathlib import Path\n",
    "import umap.umap_ as umap\n",
    "from scipy import stats\n",
    "from scipy.stats import ttest_ind\n"
   ]
  },
  {
   "cell_type": "code",
   "execution_count": 194,
   "metadata": {},
   "outputs": [],
   "source": [
    "top_dir = os.path.dirname(os.getcwd())\n",
    "#outpath = os.path.join(top_dir, \"Figures\")\n",
    "outpath = \"/Users/habbasi/Documents/Github/broadinstitute/ProteinKinase_NathianelGray/Figures/Features_map/ERK5/\""
   ]
  },
  {
   "cell_type": "markdown",
   "metadata": {},
   "source": [
    "## Data Paths"
   ]
  },
  {
   "cell_type": "code",
   "execution_count": 203,
   "metadata": {},
   "outputs": [
    {
     "data": {
      "text/plain": [
       "array(['JWG-071', 'AX15836', 'JWG-119'], dtype=object)"
      ]
     },
     "execution_count": 203,
     "metadata": {},
     "output_type": "execute_result"
    }
   ],
   "source": [
    "path = Path(\"../collated/\")\n",
    "#outpath = Path(\"/Welch_ttest/\")\n",
    "fname = \"C-7210-01-CMP-008-gray_collapsed_sampled.csv\"\n",
    "fpath = os.path.join(path, fname)\n",
    "df = pd.read_csv(fpath)\n",
    "\n",
    "\n",
    "metadata = [col for col in df.columns if \"Metadata\" in col]\n",
    "var = [col for col in df.columns if not \"Metadata\" in col]\n",
    "exclude_var = ['Cells_Correlation_Costes_DNA_Mito',\n",
    " 'Cytoplasm_Correlation_Costes_DNA_Mito',\n",
    " 'Cytoplasm_Correlation_Costes_DNA_RNA']\n",
    "\n",
    "variables = [v for v in var if v not in exclude_var]\n",
    "\n",
    "df['Metadata_Target'].replace(np.nan, 'NA', inplace=True)\n",
    "df['Metadata_Annotation'].replace('active ', 'active', inplace=True)\n",
    "\n",
    "\n",
    "c=['A549']\n",
    "p = ['ERK5']\n",
    "excluded = [\"C1\", \"C2\", \"C3\", \"C4\"]\n",
    "\n",
    "d = df.query('Metadata_cell_line in @ c and Metadata_compound_name not in @ excluded and Metadata_Target in @p')\n",
    "\n",
    "d.Metadata_compound_name.unique()"
   ]
  },
  {
   "cell_type": "markdown",
   "metadata": {},
   "source": [
    "## Welch Ttest"
   ]
  },
  {
   "cell_type": "code",
   "execution_count": 190,
   "metadata": {
    "scrolled": true
   },
   "outputs": [
    {
     "data": {
      "text/html": [
       "<div>\n",
       "<style scoped>\n",
       "    .dataframe tbody tr th:only-of-type {\n",
       "        vertical-align: middle;\n",
       "    }\n",
       "\n",
       "    .dataframe tbody tr th {\n",
       "        vertical-align: top;\n",
       "    }\n",
       "\n",
       "    .dataframe thead th {\n",
       "        text-align: right;\n",
       "    }\n",
       "</style>\n",
       "<table border=\"1\" class=\"dataframe\">\n",
       "  <thead>\n",
       "    <tr style=\"text-align: right;\">\n",
       "      <th></th>\n",
       "      <th>Paired</th>\n",
       "      <th>Statistics</th>\n",
       "      <th>P-value</th>\n",
       "      <th>Variables</th>\n",
       "      <th>logp</th>\n",
       "    </tr>\n",
       "  </thead>\n",
       "  <tbody>\n",
       "    <tr>\n",
       "      <th>0</th>\n",
       "      <td>FMF-04-159-2, FMF-05-176-1</td>\n",
       "      <td>-52.279437</td>\n",
       "      <td>1.294305e-16</td>\n",
       "      <td>Cytoplasm_RadialDistribution_RadialCV_RNA_4of4</td>\n",
       "      <td>15.887963</td>\n",
       "    </tr>\n",
       "    <tr>\n",
       "      <th>0</th>\n",
       "      <td>FMF-04-159-2, FMF-05-176-1</td>\n",
       "      <td>-38.991059</td>\n",
       "      <td>4.433907e-15</td>\n",
       "      <td>Cytoplasm_RadialDistribution_RadialCV_RNA_3of4</td>\n",
       "      <td>14.353213</td>\n",
       "    </tr>\n",
       "    <tr>\n",
       "      <th>0</th>\n",
       "      <td>FMF-04-159-2, FMF-05-176-1</td>\n",
       "      <td>-50.234685</td>\n",
       "      <td>1.764453e-14</td>\n",
       "      <td>Cells_RadialDistribution_RadialCV_RNA_4of4</td>\n",
       "      <td>13.753390</td>\n",
       "    </tr>\n",
       "    <tr>\n",
       "      <th>0</th>\n",
       "      <td>FMF-04-159-2, FMF-05-176-1</td>\n",
       "      <td>-26.947552</td>\n",
       "      <td>3.962486e-13</td>\n",
       "      <td>Cytoplasm_RadialDistribution_MeanFrac_RNA_1of4</td>\n",
       "      <td>12.402032</td>\n",
       "    </tr>\n",
       "    <tr>\n",
       "      <th>0</th>\n",
       "      <td>FMF-04-159-2, FMF-05-176-1</td>\n",
       "      <td>-25.462702</td>\n",
       "      <td>5.124997e-13</td>\n",
       "      <td>Cells_RadialDistribution_RadialCV_RNA_3of4</td>\n",
       "      <td>12.290306</td>\n",
       "    </tr>\n",
       "  </tbody>\n",
       "</table>\n",
       "</div>"
      ],
      "text/plain": [
       "                       Paired  Statistics       P-value  \\\n",
       "0  FMF-04-159-2, FMF-05-176-1  -52.279437  1.294305e-16   \n",
       "0  FMF-04-159-2, FMF-05-176-1  -38.991059  4.433907e-15   \n",
       "0  FMF-04-159-2, FMF-05-176-1  -50.234685  1.764453e-14   \n",
       "0  FMF-04-159-2, FMF-05-176-1  -26.947552  3.962486e-13   \n",
       "0  FMF-04-159-2, FMF-05-176-1  -25.462702  5.124997e-13   \n",
       "\n",
       "                                        Variables       logp  \n",
       "0  Cytoplasm_RadialDistribution_RadialCV_RNA_4of4  15.887963  \n",
       "0  Cytoplasm_RadialDistribution_RadialCV_RNA_3of4  14.353213  \n",
       "0      Cells_RadialDistribution_RadialCV_RNA_4of4  13.753390  \n",
       "0  Cytoplasm_RadialDistribution_MeanFrac_RNA_1of4  12.402032  \n",
       "0      Cells_RadialDistribution_RadialCV_RNA_3of4  12.290306  "
      ]
     },
     "execution_count": 190,
     "metadata": {},
     "output_type": "execute_result"
    }
   ],
   "source": [
    "c=['A549']\n",
    "p = ['ERK5']\n",
    "excluded = [\"C1\", \"C2\", \"C3\", \"C4\"]\n",
    "\n",
    "\n",
    "features_group=['RadialDistribution']\n",
    "channels=['Mito', 'RNA']\n",
    "\n",
    "\n",
    "\n",
    "d = df.query('Metadata_cell_line in @ c and Metadata_compound_name not in @ excluded and Metadata_Target in @p')\n",
    "\n",
    "varlist = (d.columns[d.columns.str.contains(features_group[0])]\n",
    "           .tolist()\n",
    "          )\n",
    "\n",
    "\n",
    "varlist = [match for match in varlist if channels[1] in match]\n",
    "\n",
    "varlist \n",
    "\n",
    "\n",
    "tt = []\n",
    "\n",
    "for i in varlist:\n",
    "    test = d.Metadata_compound_name.unique().tolist()\n",
    "    \n",
    "    gp1 = d.query(\"Metadata_compound_name in @ test[1]\")[i].values\n",
    "    gp2 = d.query(\"Metadata_compound_name in @ test[0]\")[i].values\n",
    "\n",
    " \n",
    "\n",
    "    t1 = ttest_ind(gp1, gp2, equal_var=False)\n",
    "\n",
    "\n",
    "\n",
    "\n",
    "    d1 = {\"Paired\": [test[0]+', '+ test[1]],\n",
    "          \"Statistics\": [t1[0]],\n",
    "          \"P-value\": [t1[1]],\n",
    "          \"Variables\": str(i)}\n",
    "\n",
    "\n",
    "\n",
    "    prf = pd.DataFrame(d1, columns = ['Paired','Statistics', 'P-value', 'Variables'])\n",
    "\n",
    "    tt.append(prf)\n",
    "final_tt = pd.concat(tt)\n",
    "\n",
    "\n",
    "# converting P-values to -log10[pvalues]\n",
    "final_tt['logp'] = -log10(final_tt['P-value'])\n",
    "                    \n",
    "#index = [i for i in range(1, len(final_tt) +1)]\n",
    "#final_tt['index'] =  index\n",
    " \n",
    "final_tt = (final_tt\n",
    "            .sort_values(by='logp', ascending=False))\n",
    "\n",
    "\n",
    "#final_tt['Variables'].tolist()[0:5]\n",
    "final_tt.head(5)\n",
    "\n",
    "# for i, var in enumerate(varlist):\n",
    "#     g = gg.ggplot() + \\\n",
    "#     gg.geom_density(gg.aes(x=str(var), y='stat(density)', color = 'Metadata_compound_name', fill= 'Metadata_compound_name'), data= d, alpha=.1) + \\\n",
    "#     gg.xlab(\"Feature_Name\") + \\\n",
    "#     gg.ylab(\"Density\") + \\\n",
    "#     gg.labs(title=str(var)) + \\\n",
    "#     gg.theme_classic() \n",
    "\n",
    "\n",
    "\n",
    "#     gg.ggsave(filename= str(var)+ \".png\", plot = g, path = outpath)\n",
    "\n",
    "\n"
   ]
  },
  {
   "cell_type": "markdown",
   "metadata": {},
   "source": [
    "## Neighbors Features"
   ]
  },
  {
   "cell_type": "code",
   "execution_count": 201,
   "metadata": {},
   "outputs": [
    {
     "data": {
      "text/plain": [
       "['Nuclei_AreaShape_Zernike_2_2',\n",
       " 'Nuclei_AreaShape_Zernike_5_1',\n",
       " 'Nuclei_AreaShape_Eccentricity',\n",
       " 'Nuclei_AreaShape_Zernike_6_4',\n",
       " 'Nuclei_AreaShape_Zernike_8_4',\n",
       " 'Nuclei_AreaShape_Zernike_0_0',\n",
       " 'Nuclei_AreaShape_Compactness']"
      ]
     },
     "execution_count": 201,
     "metadata": {},
     "output_type": "execute_result"
    }
   ],
   "source": [
    "c=['A549']\n",
    "p = ['CDK14 / pan-TAIRE']\n",
    "excluded = [\"C1\", \"C2\", \"C3\", \"C4\"]\n",
    "\n",
    "\n",
    "features_group='AreaShape'\n",
    "\n",
    "\n",
    "\n",
    "d = df.query('Metadata_cell_line in @ c and Metadata_compound_name not in @ excluded and Metadata_Target in @p')\n",
    "\n",
    "varlist = (d.columns[d.columns.str.contains(features_group)]\n",
    "           .tolist()\n",
    "          )\n",
    "\n",
    "varlist = [match for match in varlist if \"Nuclei\" in match]\n",
    "\n",
    "\n",
    "\n",
    "tt = []\n",
    "\n",
    "for i in varlist:\n",
    "    test = d.Metadata_compound_name.unique().tolist()\n",
    "    \n",
    "    gp1 = d.query(\"Metadata_compound_name in @ test[1]\")[i].values\n",
    "    gp2 = d.query(\"Metadata_compound_name in @ test[0]\")[i].values\n",
    "\n",
    " \n",
    "\n",
    "    t1 = ttest_ind(gp1, gp2, equal_var=False)\n",
    "\n",
    "\n",
    "\n",
    "\n",
    "    d1 = {\"Paired\": [test[0]+', '+ test[1]],\n",
    "          \"Statistics\": [t1[0]],\n",
    "          \"P-value\": [t1[1]],\n",
    "          \"Variables\": str(i)}\n",
    "\n",
    "\n",
    "\n",
    "    prf = pd.DataFrame(d1, columns = ['Paired','Statistics', 'P-value', 'Variables'])\n",
    "\n",
    "    tt.append(prf)\n",
    "final_tt = pd.concat(tt)\n",
    "\n",
    "\n",
    "# converting P-values to -log10[pvalues]\n",
    "\n",
    "final_tt['logp'] = -log10(final_tt['P-value'])\n",
    " \n",
    "final_tt = (final_tt\n",
    "            .sort_values(by='logp', ascending=False))\n",
    "\n",
    "\n",
    "final_tt.head(6)\n",
    "final_tt['Variables'].tolist()[0:7]\n",
    "\n",
    "#index = [i for i in range(1, len(final_tt) +1)]\n",
    "#final_tt['index'] =  index\n",
    " \n",
    " \n",
    "\n",
    "# for i, var in enumerate(varlist):\n",
    "#     g = gg.ggplot() + \\\n",
    "#     gg.geom_density(gg.aes(x=str(var), y='stat(density)', color = 'Metadata_compound_name', fill= 'Metadata_compound_name'), data= d, alpha=.1) + \\\n",
    "#     gg.xlab(\"Feature_Name\") + \\\n",
    "#     gg.ylab(\"Density\") + \\\n",
    "#     gg.labs(title=str(var)) + \\\n",
    "#     gg.theme_classic() \n",
    "\n",
    "\n",
    "\n",
    "#     gg.ggsave(filename= str(var)+ \".png\", plot = g, path = outpath)\n",
    "\n"
   ]
  },
  {
   "cell_type": "code",
   "execution_count": 155,
   "metadata": {},
   "outputs": [
    {
     "data": {
      "text/plain": [
       "array(['NA', 'ERK5'], dtype=object)"
      ]
     },
     "execution_count": 155,
     "metadata": {},
     "output_type": "execute_result"
    }
   ],
   "source": [
    "c=['A549']\n",
    "p = ['NA','ERK5']\n",
    "excluded = [\"C1\", \"C2\", \"C3\", \"C4\"]\n",
    "\n",
    "d = df.query('Metadata_cell_line in @ c and Metadata_compound_name not in @ excluded and Metadata_Target in @p')\n",
    "\n",
    "\n",
    "d.Metadata_Target.unique()"
   ]
  },
  {
   "cell_type": "code",
   "execution_count": 161,
   "metadata": {},
   "outputs": [
    {
     "data": {
      "text/plain": [
       "array(['DMSO', 'JWG-071', 'AX15836', 'JWG-119'], dtype=object)"
      ]
     },
     "execution_count": 161,
     "metadata": {},
     "output_type": "execute_result"
    }
   ],
   "source": [
    "d.Metadata_compound_name.unique()"
   ]
  },
  {
   "cell_type": "code",
   "execution_count": null,
   "metadata": {},
   "outputs": [],
   "source": []
  }
 ],
 "metadata": {
  "kernelspec": {
   "display_name": "Python 3",
   "language": "python",
   "name": "python3"
  },
  "language_info": {
   "codemirror_mode": {
    "name": "ipython",
    "version": 3
   },
   "file_extension": ".py",
   "mimetype": "text/x-python",
   "name": "python",
   "nbconvert_exporter": "python",
   "pygments_lexer": "ipython3",
   "version": "3.7.6"
  }
 },
 "nbformat": 4,
 "nbformat_minor": 2
}
